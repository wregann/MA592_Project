{
 "cells": [
  {
   "cell_type": "code",
   "execution_count": 1,
   "id": "477a9759",
   "metadata": {},
   "outputs": [],
   "source": [
    "import numpy as np\n",
    "import pandas as pd\n",
    "import scipy \n",
    "import spams\n",
    "import scanpy\n",
    "import time, sys, traceback, argparse\n",
    "import os\n",
    "import tqdm\n",
    "import statsmodels.api as sma\n",
    "import statsmodels.stats as sms\n",
    "import functools\n",
    "from tqdm.contrib.concurrent import thread_map\n",
    "\n",
    "from scipy.io import mmread\n",
    "from sklearn.preprocessing import normalize\n",
    "import matplotlib.pyplot as plt"
   ]
  },
  {
   "cell_type": "code",
   "execution_count": 2,
   "id": "bbb593cd",
   "metadata": {},
   "outputs": [],
   "source": [
    "def regress_covariates(dat, cov_mat):\n",
    "    '''\n",
    "    Regress out covariates from expression matrix in place. \n",
    "    Two orders of magnitude faster than scanpy.pp.regress_out function.\n",
    "    \n",
    "    Parameters\n",
    "    ----------\n",
    "    dat: AnnData object\n",
    "    cov_mat: Cell x covariate Dataframe\n",
    "    '''\n",
    "    \n",
    "    cov_mat = pd.get_dummies(cov_mat, drop_first=True) # Convert factors to dummy variables\n",
    "    cov_means = cov_mat.values.mean(axis = 0) \n",
    "    cov_mat = cov_mat.values - cov_means[np.newaxis, :] # Center covariates\n",
    "    cov_mat = np.c_[np.ones((cov_mat.shape[0], 1)), cov_mat] # Append intercept\n",
    "    \n",
    "    if scipy.sparse.issparse(dat.X):\n",
    "        dat.X = dat.X.todense()\n",
    "\n",
    "    lmfit = scipy.linalg.lstsq(cov_mat, dat.X, lapack_driver='gelsy')[0]\n",
    "    resids = dat.X - cov_mat.dot(lmfit)\n",
    "    dat.X = resids\n",
    "    \n",
    "def fit_skew_norm(t_star, t_nulls, side='both'):\n",
    "    '''\n",
    "    Compute p-values by fitting skew normal to null distribution. \n",
    "    \n",
    "    Parameters\n",
    "    ----------\n",
    "    t_star: Test statistic\n",
    "    t_null: Null statistics\n",
    "    side: Which side to compute pvalues (left, right, or both)\n",
    "    \n",
    "    Returns\n",
    "    ---------\n",
    "    P-value\n",
    "    '''\n",
    "    \n",
    "    if t_star == 0:\n",
    "        p = 1\n",
    "    else:\n",
    "        fit = scipy.stats.skewnorm.fit(t_nulls)\n",
    "        if side == 'left':\n",
    "            p = scipy.stats.skewnorm.cdf(t_star, *fit)\n",
    "        elif side == 'right':\n",
    "            p = 1 - scipy.stats.skewnorm.cdf(t_star, *fit)\n",
    "        elif side == 'both':\n",
    "            p = scipy.stats.skewnorm.cdf(t_star, *fit)\n",
    "            p = 2 * np.minimum(p, 1 - p)\n",
    "        else:\n",
    "            raise ValueError('Wrong side')\n",
    "    return p\n",
    "\n",
    "def scale_effs(B, logmeanexp, downsample_num = 25000, log_exp_baseline = 2):\n",
    "    '''\n",
    "    Scale effect sizes to mean expression using LOWESS. \n",
    "    \n",
    "    Parameters\n",
    "    ----------\n",
    "    B: Perturbation x gene unscaled effect size matrix\n",
    "    logmeanexp: Vector of log mean expression values to scale to\n",
    "    downsample_num: Number of effects used to fit curve\n",
    "    log_exp_baseline: Mean effect magnitude from this log expression is taken as the value to scale to\n",
    "    \n",
    "    Returns\n",
    "    ---------\n",
    "    B: Perturbation x gene scaled effect size matrix\n",
    "    scale_factors: Per-gene scale factors \n",
    "    '''\n",
    "    \n",
    "    data_frac = min(1, downsample_num / np.prod(B.shape))\n",
    "    \n",
    "    if B.shape[1] != len(logmeanexp):\n",
    "        raise ValueError('Number of genes differs')\n",
    "    rand_idx = np.c_[np.random.randint(0, B.shape[0], downsample_num), \n",
    "                     np.random.randint(0, B.shape[1], downsample_num)]\n",
    "    to_plot = np.c_[logmeanexp[rand_idx[:,1]], np.log(np.abs(B[rand_idx[:,0],rand_idx[:,1]]))]\n",
    "    to_plot = to_plot[~np.isinf(to_plot[:,1]),:]\n",
    "    fit = sma.nonparametric.lowess(to_plot[:,1], to_plot[:,0], return_sorted=False, xvals = logmeanexp)\n",
    "    baseline = fit[min(i for i,x in enumerate(logmeanexp) if x > log_exp_baseline)]\n",
    "    scale_factors = np.exp(fit - baseline)\n",
    "    B = B / scale_factors\n",
    "    return B, scale_factors\n",
    "\n",
    "def sec_to_str(t):\n",
    "    '''Convert seconds to days:hours:minutes:seconds'''\n",
    "    [d, h, m, s, n] = functools.reduce(lambda ll, b: divmod(ll[0], b) + ll[1:], [(t, 1), 60, 60, 24])\n",
    "    f = ''\n",
    "    if d > 0:\n",
    "        f += '{D}d:'.format(D=d)\n",
    "    if h > 0:\n",
    "        f += '{H}h:'.format(H=h)\n",
    "    if m > 0:\n",
    "        f += '{M}m:'.format(M=m)\n",
    "\n",
    "    f += '{S}s'.format(S=s)\n",
    "    return f\n",
    "\n",
    "def signif(X, n):\n",
    "    '''Round elements of a pandas DF X to n significant figures'''\n",
    "    def func(x):\n",
    "        if x == 0:\n",
    "            return 0\n",
    "        else:\n",
    "            return round(x, n - 1 - int(np.floor(np.log10(abs(x)))))\n",
    "    return X.applymap(func) \n"
   ]
  },
  {
   "cell_type": "code",
   "execution_count": 30,
   "id": "68ed4ac3",
   "metadata": {},
   "outputs": [],
   "source": [
    "rank = 40\n",
    "lambda1 = 0.1\n",
    "lambda2 = 10"
   ]
  },
  {
   "cell_type": "code",
   "execution_count": 31,
   "id": "746beed0",
   "metadata": {},
   "outputs": [],
   "source": [
    "## read in data\n",
    "cts = mmread('CD14_counts.mtx')\n",
    "cts = cts.T.todense()\n",
    "cts.colnames = open(\"CD14_c_rownames.txt\", \"r\").read().split('\\n')\n",
    "cts.rownames = open(\"CD14_c_colnames.txt\", \"r\").read().split('\\n')\n",
    "\n",
    "metadata = pd.read_csv('CD14_metadata.csv')\n",
    "#metadata = metadata.rename(columns = {'Unnamed: 0':'Cell'})\n",
    "cts.metadata = metadata\n",
    "\n",
    "P = mmread('CD14_perturbations.mtx')\n",
    "P = P.todense()\n",
    "P.rownames = open(\"CD14_p_rownames.txt\", \"r\").read().split('\\n')\n",
    "#P.rownames = [x.replace('\\n', '') for x in P.rownames]\n",
    "P.colnames = open(\"CD14_p_colnames.txt\", \"r\").read().split('\\n')\n",
    "\n",
    "if not cts.rownames == P.colnames:\n",
    "    print('Cell names in perturbation matrix do not match cell names in expression matrix')"
   ]
  },
  {
   "cell_type": "code",
   "execution_count": 32,
   "id": "dc2a7a1c",
   "metadata": {},
   "outputs": [
    {
     "name": "stderr",
     "output_type": "stream",
     "text": [
      "C:\\Users\\diksh\\AppData\\Local\\Packages\\PythonSoftwareFoundation.Python.3.10_qbz5n2kfra8p0\\LocalCache\\local-packages\\Python310\\site-packages\\sklearn\\utils\\validation.py:727: FutureWarning: np.matrix usage is deprecated in 1.0 and will raise a TypeError in 1.2. Please convert to a numpy array with np.asarray. For more information see: https://numpy.org/doc/stable/reference/generated/numpy.matrix.html\n",
      "  warnings.warn(\n"
     ]
    }
   ],
   "source": [
    "#Y = cts\n",
    "Y = normalize(cts, axis=1, norm='l1')*10000\n",
    "Y = np.log(Y+1)\n",
    "Y = Y - Y.mean(axis = 0)"
   ]
  },
  {
   "cell_type": "code",
   "execution_count": 33,
   "id": "371fd2e9",
   "metadata": {},
   "outputs": [
    {
     "data": {
      "text/plain": [
       "array([[-0.64336837, -0.38034448, -0.01955386,  0.47358266, -0.17888556],\n",
       "       [-0.64336837, -0.38034448, -0.01955386,  0.46512168,  0.78621616],\n",
       "       [ 4.29748008, -0.38034448, -0.01955386,  0.26728455,  0.30216438],\n",
       "       [-0.64336837, -0.38034448, -0.01955386, -4.67356391,  0.0377176 ],\n",
       "       [-0.64336837, -0.38034448, -0.01955386,  1.08993397, -4.63868408]])"
      ]
     },
     "execution_count": 33,
     "metadata": {},
     "output_type": "execute_result"
    }
   ],
   "source": [
    "Y[0:5,0:5]"
   ]
  },
  {
   "cell_type": "code",
   "execution_count": 34,
   "id": "e43ef2a3",
   "metadata": {},
   "outputs": [],
   "source": [
    "n_guides = P.sum(axis = 0)\n",
    "nt_names = ['non-targeting', 'safe-targeting']\n",
    "#ctrl_idx = np.logical_and(n_guides == 1, P.rownames[nt_names].sum(axis = 0).values != 0)\n",
    "ctrl_idx = np.where(np.isin(metadata['guide.names'],['non-targeting','safe-targeting']))[0].tolist() \n",
    "ctrl_exp = Y[ctrl_idx,:].mean(axis = 0)\n",
    "Y = Y - ctrl_exp\n",
    "#Y = Y[:,np.array(Y.sum(axis = 0))[0,:] != 0]\n",
    "Y = Y[:,Y.sum(axis = 0) != 0]\n",
    "keep_cells = (P.sum(axis = 0) > 0).tolist()[0]\n",
    "p_mat = np.asfortranarray(P[:,keep_cells].T).astype(float)"
   ]
  },
  {
   "cell_type": "code",
   "execution_count": 35,
   "id": "147673f2",
   "metadata": {},
   "outputs": [],
   "source": [
    "W = spams.trainDL(np.asfortranarray(Y.T), K=rank, lambda1=lambda1, iter=50, verbose=False)"
   ]
  },
  {
   "cell_type": "code",
   "execution_count": 36,
   "id": "2045273e",
   "metadata": {},
   "outputs": [
    {
     "data": {
      "text/plain": [
       "array([[-0.03160682,  0.00152236, -0.01066969,  0.03307026,  0.0103731 ],\n",
       "       [-0.0019396 ,  0.00648054, -0.01644538,  0.00588551,  0.00523663],\n",
       "       [ 0.0010546 , -0.0017476 ,  0.00061856,  0.00116953,  0.00081482],\n",
       "       [-0.0727696 , -0.0054647 , -0.04238932,  0.01186655, -0.05139222],\n",
       "       [ 0.03270725,  0.05276391, -0.20046013,  0.00944554,  0.11477929]])"
      ]
     },
     "execution_count": 36,
     "metadata": {},
     "output_type": "execute_result"
    }
   ],
   "source": [
    "W[0:5,0:5]"
   ]
  },
  {
   "cell_type": "code",
   "execution_count": 37,
   "id": "60ac3ad5",
   "metadata": {},
   "outputs": [],
   "source": [
    "U_tilde = spams.lasso(np.asfortranarray(Y.T), D=W, lambda1=lambda1, verbose=False)\n",
    "U_tilde = U_tilde[:, keep_cells]\n",
    "U_tilde = np.asfortranarray(U_tilde.T.todense())\n",
    "W = W.T"
   ]
  },
  {
   "cell_type": "code",
   "execution_count": 38,
   "id": "84df08b3",
   "metadata": {},
   "outputs": [],
   "source": [
    "U = spams.lasso(U_tilde, D=p_mat, lambda1=lambda2, verbose=False)\n",
    "B = U.dot(W)"
   ]
  },
  {
   "cell_type": "code",
   "execution_count": 39,
   "id": "3516121e",
   "metadata": {},
   "outputs": [
    {
     "data": {
      "text/plain": [
       "(49, 310)"
      ]
     },
     "execution_count": 39,
     "metadata": {},
     "output_type": "execute_result"
    }
   ],
   "source": [
    "B.shape"
   ]
  },
  {
   "cell_type": "code",
   "execution_count": 40,
   "id": "ed16f801",
   "metadata": {},
   "outputs": [
    {
     "data": {
      "text/plain": [
       "array([[-5.16693041e-02, -3.89618038e-02, -2.14597802e-03,\n",
       "        -1.96632043e-02, -1.67685822e-01],\n",
       "       [ 9.25595034e-03,  1.06666017e-02,  6.48506149e-04,\n",
       "         2.97658420e-03,  2.04052841e-02],\n",
       "       [ 4.23471698e-02,  1.56852690e-02,  2.99957068e-03,\n",
       "         8.12775405e-02,  1.41071737e-01],\n",
       "       [ 1.00989206e-02, -7.27574315e-04,  2.02315123e-06,\n",
       "         3.58382035e-02,  1.28743913e-01],\n",
       "       [ 4.67817939e-02,  3.65833848e-02,  6.83720326e-04,\n",
       "         9.59284163e-02, -9.57275167e-02]])"
      ]
     },
     "execution_count": 40,
     "metadata": {},
     "output_type": "execute_result"
    }
   ],
   "source": [
    "B[0:5,0:5]"
   ]
  },
  {
   "cell_type": "code",
   "execution_count": 44,
   "id": "66133f85",
   "metadata": {},
   "outputs": [],
   "source": [
    "num_perms = 1000\n",
    "pvals = np.zeros((B.shape))\n",
    "for i in range(num_perms):\n",
    "    p_mat_perm = np.asfortranarray(p_mat[np.random.permutation(p_mat.shape[0]),:])\n",
    "    U_perm = spams.lasso(U_tilde, D=p_mat_perm, lambda1=lambda2, verbose=False)\n",
    "    B_perm = U_perm.dot(W)\n",
    "    temp_indices = B < B_perm\n",
    "    pvals[temp_indices] = pvals[temp_indices] + 1\n",
    "pvals /= num_perms\n",
    "pvals[pvals > 0.5] = 1 - pvals[pvals > 0.5] # get 2-sided pvalues\n",
    "pvals *= 2 \n",
    "pvals = (pvals * num_perms + 1) / (num_perms + 1)"
   ]
  },
  {
   "cell_type": "code",
   "execution_count": 45,
   "id": "bff1b5d4",
   "metadata": {},
   "outputs": [
    {
     "data": {
      "text/plain": [
       "(49, 310)"
      ]
     },
     "execution_count": 45,
     "metadata": {},
     "output_type": "execute_result"
    }
   ],
   "source": [
    "pvals.shape"
   ]
  },
  {
   "cell_type": "code",
   "execution_count": 46,
   "id": "1ba4b1ef",
   "metadata": {},
   "outputs": [
    {
     "data": {
      "text/plain": [
       "array([[0.01098901, 0.002997  , 0.06493506, ..., 0.01098901, 0.04495504,\n",
       "        0.002997  ],\n",
       "       [0.64235764, 0.41658342, 0.7002997 , ..., 0.35464535, 0.3966034 ,\n",
       "        0.06893107],\n",
       "       [0.05094905, 0.24075924, 0.02897103, ..., 0.18881119, 0.8961039 ,\n",
       "        0.23476523],\n",
       "       ...,\n",
       "       [0.12887113, 0.0969031 , 0.16883117, ..., 0.15484515, 0.20879121,\n",
       "        0.02697303],\n",
       "       [0.92607393, 0.62437562, 0.99000999, ..., 0.76223776, 0.88811189,\n",
       "        0.57442557],\n",
       "       [0.39060939, 0.81018981, 0.25274725, ..., 0.996004  , 0.73226773,\n",
       "        0.5964036 ]])"
      ]
     },
     "execution_count": 46,
     "metadata": {},
     "output_type": "execute_result"
    }
   ],
   "source": [
    "pvals"
   ]
  },
  {
   "cell_type": "code",
   "execution_count": 48,
   "id": "fa4abf26",
   "metadata": {},
   "outputs": [],
   "source": [
    "np.savetxt(\"pvals.csv\", pvals, delimiter=\",\")\n",
    "np.savetxt(\"B.csv\", B, delimiter=\",\")"
   ]
  },
  {
   "cell_type": "code",
   "execution_count": null,
   "id": "13b3285c",
   "metadata": {},
   "outputs": [],
   "source": []
  }
 ],
 "metadata": {
  "kernelspec": {
   "display_name": "Python 3 (ipykernel)",
   "language": "python",
   "name": "python3"
  },
  "language_info": {
   "codemirror_mode": {
    "name": "ipython",
    "version": 3
   },
   "file_extension": ".py",
   "mimetype": "text/x-python",
   "name": "python",
   "nbconvert_exporter": "python",
   "pygments_lexer": "ipython3",
   "version": "3.10.11"
  }
 },
 "nbformat": 4,
 "nbformat_minor": 5
}
