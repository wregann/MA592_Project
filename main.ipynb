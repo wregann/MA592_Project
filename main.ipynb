{
 "cells": [
  {
   "cell_type": "markdown",
   "metadata": {},
   "source": [
    "# MA 592 Project\n",
    "\n",
    "## Import Data\n"
   ]
  },
  {
   "cell_type": "code",
   "execution_count": 1,
   "metadata": {},
   "outputs": [],
   "source": [
    "from scipy.io import mmread\n",
    "# Read Count Matrix data and names\n",
    "\n",
    "# counts_mat = mmread(\"./CD14_mtxs/CD14_counts.mtx\").todense()\n",
    "counts_mat = mmread(\"./dataset_norm/CD14_norm_counts.mtx\").todense()\n",
    "# with open(\"./CD14_mtxs/CD14_c_colnames.txt\", 'r') as f:\n",
    "with open(\"./dataset_norm/CD14_norm_c_colnames.txt\", 'r') as f:\n",
    "    counts_rownames = [x[:-1] for x in f.readlines()]\n",
    "# with open(\"./CD14_mtxs/CD14_c_rownames.txt\", 'r') as f:\n",
    "with open(\"./dataset_norm/CD14_norm_c_rownames.txt\", 'r') as f:\n",
    "    counts_colnames = [x[:-1] for x in f.readlines()]\n",
    "\n",
    "# Read Pertubation Matrix data and names\n",
    "\n",
    "# pert_mat = mmread(\"./CD14_mtxs/CD14_perturbations.mtx\").todense()\n",
    "pert_mat = mmread(\"./dataset_norm/CD14_norm_p.mtx\").todense()\n",
    "# with open(\"./CD14_mtxs/CD14_p_colnames.txt\", 'r') as f:\n",
    "with open(\"./dataset_norm/CD14_norm_p_colnames.txt\", 'r') as f:\n",
    "    pert_rownames = [x[:-1] for x in f.readlines()]\n",
    "# with open(\"./CD14_mtxs/CD14_p_rownames.txt\", 'r') as f:\n",
    "with open(\"./dataset_norm/CD14_norm_p_rownames.txt\", 'r') as f:\n",
    "    pert_colnames = [x[:-1] for x in f.readlines()]\n"
   ]
  },
  {
   "cell_type": "markdown",
   "metadata": {},
   "source": [
    "## Conversion to Pandas Dataframe"
   ]
  },
  {
   "cell_type": "code",
   "execution_count": 2,
   "metadata": {},
   "outputs": [],
   "source": [
    "import numpy as np\n",
    "import pandas as pd\n",
    "\n",
    "# Make Counts Dataframe\n",
    "counts_df = pd.DataFrame(data=counts_mat.transpose(), columns=counts_colnames)\n",
    "# Insert proteins by rowname as first column\n",
    "counts_df.insert(loc=0, column=\"Cell\", value=counts_rownames)\n",
    "\n",
    "# Same process for perturbations\n",
    "pert_df = pd.DataFrame(data=pert_mat.transpose(), columns=pert_colnames)\n",
    "pert_df.insert(loc=0, column=\"Cell\", value=pert_rownames)"
   ]
  },
  {
   "cell_type": "code",
   "execution_count": 3,
   "metadata": {},
   "outputs": [
    {
     "data": {
      "text/plain": [
       "0.0      1657\n",
       "36.0        1\n",
       "37.0        2\n",
       "38.0        1\n",
       "40.0        1\n",
       "         ... \n",
       "340.0       1\n",
       "342.0       1\n",
       "352.0       1\n",
       "353.0       1\n",
       "374.0       1\n",
       "Name: CDC42, Length: 283, dtype: int64"
      ]
     },
     "execution_count": 3,
     "metadata": {},
     "output_type": "execute_result"
    }
   ],
   "source": [
    "counts_df[\"CDC42\"].groupby(by=lambda x: counts_df[\"CDC42\"][x] // 0.01).count()"
   ]
  },
  {
   "cell_type": "markdown",
   "metadata": {},
   "source": [
    "## Instrumental Variables"
   ]
  },
  {
   "cell_type": "code",
   "execution_count": 4,
   "metadata": {},
   "outputs": [],
   "source": [
    "import matplotlib.pyplot as plt\n",
    "\n",
    "def getFHat(x, n=None):\n",
    "    if x.dtype == 'float':\n",
    "        x = x.astype(int)\n",
    "    f = x.value_counts().sort_index()\n",
    "    if n is None:\n",
    "        n = f.index.max()\n",
    "    return f.reindex(range(n+1), fill_value=0).cumsum() / f.sum()\n",
    "\n",
    "def getThreshold(fx0, fx1, d=0.25, n=None):\n",
    "    if n is None:\n",
    "        n = fx0.index.max()\n",
    "    weights = (n-pd.Series(range(n+1)))/(n*(1+pd.Series(range(n+1)))**d) # Considering setting this to 1\n",
    "    return (weights*(fx1-fx0)).argmax()\n",
    "\n",
    "def IV(Z, X, Y, d=0.25):\n",
    "    X0, X1 = X.loc[Z == 0], X.loc[Z == 1]\n",
    "    Y0, Y1 = Y.loc[Z == 0], Y.loc[Z == 1]\n",
    "\n",
    "    Nx = int(X.max())\n",
    "    Ny = int(Y.max())\n",
    "    FX0, FX1 = getFHat(X0, Nx), getFHat(X1, Nx)\n",
    "    FY0, FY1 = getFHat(Y0, Ny), getFHat(Y1, Ny)\n",
    "    alpha = getThreshold(FX0, FX1, d, Nx)\n",
    "    beta = getThreshold(FY0, FY1, d, Ny)\n",
    "#     alpha=beta=0.5\n",
    "\n",
    "    A0, A1 = (X0 > alpha).astype(int), (X1 > alpha).astype(int)\n",
    "    B0, B1 = (Y0 > beta).astype(int), (Y1 > beta).astype(int)\n",
    "\n",
    "    Adiff, Bdiff = A0.mean()-A1.mean(), B0.mean()-B1.mean()\n",
    "    LATE = Bdiff / Adiff\n",
    "    return LATE, Adiff, Bdiff"
   ]
  },
  {
   "cell_type": "markdown",
   "metadata": {},
   "source": [
    "# Bootstrap"
   ]
  },
  {
   "cell_type": "code",
   "execution_count": 5,
   "metadata": {
    "scrolled": true
   },
   "outputs": [],
   "source": [
    "%matplotlib inline\n",
    "def bootstrap(Z, X, Y, reps=500, prog = True):\n",
    "    LATEs = []\n",
    "    KEs = []\n",
    "    n = X.shape[0]\n",
    "    for x in range(reps):\n",
    "        if prog and x % 1000 == 0:\n",
    "            print(x)\n",
    "        indicies = np.random.randint(0, n, n)\n",
    "        LATE, KE, _ = IV(Z[indicies], X[indicies], Y[indicies])  # KE = gene Knockout Effect (on X)\n",
    "        LATEs.append(LATE)\n",
    "        KEs.append(KE)\n",
    "    return np.asarray(LATEs), np.asarray(KEs)\n",
    "\n",
    "def save_graph(ZX_name, Y_name, figure):\n",
    "    figure.savefig(\"./figures/{} vs {}\".format(ZX_name, Y_name), facecolor='white', transparent=False)\n",
    "\n",
    "def find_CI(data, CI):\n",
    "    return round(np.percentile(data, 100 - CI),3), round(np.percentile(data, CI),3)\n",
    "\n",
    "def bootstrap_n_save(ZX_name, Y_name, CI = 95, print_below = True, save = True, reps=2500, prog=False):\n",
    "    if print_below:\n",
    "        plt.ion()\n",
    "    else:\n",
    "        plt.ioff()\n",
    "    \n",
    "    # Get bootstrap values\n",
    "    LATEs, KEs = bootstrap(pert_df[ZX_name], counts_df[ZX_name], counts_df[Y_name], reps, prog)\n",
    "    \n",
    "    \n",
    "    for effectVals, xLabel, yLabel in [(KEs,ZX_name+\" gene\",ZX_name + \" rna\"), (LATEs,ZX_name,Y_name)]:\n",
    "        # Get CI values\n",
    "        lower_bound, upper_bound = find_CI(effectVals, CI)\n",
    "\n",
    "        # Create graph\n",
    "        fig, ax = plt.subplots()\n",
    "        ax.hist(effectVals)\n",
    "        ax.set_title(\"{} vs {} ({}% CI: {}-{})\".format(xLabel, yLabel, CI, lower_bound, upper_bound))\n",
    "        ax.set_xlabel(\"Effect\")\n",
    "        ax.set_ylabel(\"Count\")\n",
    "\n",
    "        # Save figure if desired\n",
    "        if save:\n",
    "            save_graph(xLabel, yLabel, fig)\n",
    "\n",
    "        # Show figure in jupyter if desired\n",
    "        if print_below:\n",
    "            plt.show()\n",
    "        else:\n",
    "            plt.close()\n",
    "            \n",
    "    return LATEs, KEs"
   ]
  },
  {
   "cell_type": "markdown",
   "metadata": {},
   "source": [
    "## Hypothesis Testing"
   ]
  },
  {
   "cell_type": "code",
   "execution_count": 6,
   "metadata": {},
   "outputs": [],
   "source": [
    "def HT(Xvals, two_sided=True):\n",
    "    leftQ, rightQ = (Xvals <= 0).mean(), (Xvals >= 0).mean()\n",
    "    \n",
    "    if two_sided:\n",
    "        pval = 2*min(leftQ, rightQ)\n",
    "    else: # right-tailed otherwise since the statistic for testing is treatment effects\n",
    "        pval = rightQ\n",
    "    return pval"
   ]
  },
  {
   "cell_type": "markdown",
   "metadata": {},
   "source": [
    "### Import gene pairs for analysis"
   ]
  },
  {
   "cell_type": "code",
   "execution_count": 7,
   "metadata": {
    "scrolled": false
   },
   "outputs": [
    {
     "name": "stdout",
     "output_type": "stream",
     "text": [
      "TRAF6 TRAF1 0.5488 0.5488\n",
      "TRAF6 CD83 0.528 0.528\n",
      "TRAF6 NFKBIA 0.5216 0.5216\n",
      "TRAF6 NFKB1 0.5352 0.5352\n",
      "TRAF6 CD44 0.544 0.544\n",
      "TRAF6 CD40 0.5328 0.5328\n",
      "TRAF6 CD300A 0.54 0.5392\n",
      "TRAF6 TRAF3IP3 0.5392 0.5432\n",
      "TRAF6 TRAPPC6A 0.5584 0.5592\n",
      "TRAF6 CD1D 0.5144 0.5152\n",
      "TRAF6 MAP3K1 0.5416 0.5456\n",
      "TRAF6 CD164 0.5144 0.5176\n",
      "TRAF6 CD82 0.5208 0.5256\n",
      "TRAF6 MAP3K11 0.5176 0.5176\n",
      "TRAF6 IKBKG 0.484 0.4888\n",
      "TRAF6 CDC123 0.5056 0.5056\n",
      "NFKB1 NFKB1 0.0 0.0\n",
      "NFKB1 TRAF1 0.0 0.0\n",
      "NFKB1 NFKB2 0.0 0.0\n",
      "NFKB1 MAP3K8 0.0 0.0\n",
      "NFKB1 CD82 0.0 0.0064\n",
      "NFKB1 CD69 0.0 0.0008\n",
      "NFKB1 NFKBIA 0.0 0.0136\n",
      "NFKB1 MAPKBP1 0.0 0.0024\n",
      "NFKB1 IKBKE 0.0 0.0088\n",
      "NFKB1 CD58 0.0 0.0232\n",
      "NFKB1 CD44 0.0 0.0328\n",
      "MAPK1 CD52 0.0008 0.0008\n",
      "MAPK1 CD74 0.0024 0.0024\n",
      "MAPK1 CD209 0.0 0.0\n",
      "MAPK1 CD80 0.0 0.0\n",
      "MAPK1 CD81 0.0008 0.0784\n",
      "MAPK1 MAPK1 0.0008 0.0\n",
      "MAPK1 CD151 0.0 0.0\n",
      "MAPK1 IRF8 0.0 0.0088\n",
      "MAPK1 CD274 0.0 0.0048\n",
      "MAPK1 CD68 0.0008 0.0016\n",
      "MAPK1 CD47 0.0016 0.0024\n",
      "MAPK1 CD40 0.0016 0.0032\n",
      "MAPK1 CDC20 0.0008 0.0008\n",
      "MAPK1 CDC27 0.0 0.056\n",
      "MAPK1 MAP4K4 0.0032 0.0168\n"
     ]
    },
    {
     "ename": "KeyboardInterrupt",
     "evalue": "",
     "output_type": "error",
     "traceback": [
      "\u001b[1;31m---------------------------------------------------------------------------\u001b[0m",
      "\u001b[1;31mKeyboardInterrupt\u001b[0m                         Traceback (most recent call last)",
      "Input \u001b[1;32mIn [7]\u001b[0m, in \u001b[0;36m<cell line: 7>\u001b[1;34m()\u001b[0m\n\u001b[0;32m      6\u001b[0m results \u001b[38;5;241m=\u001b[39m []\n\u001b[0;32m      7\u001b[0m \u001b[38;5;28;01mfor\u001b[39;00m Xmarker,Ymarker \u001b[38;5;129;01min\u001b[39;00m \u001b[38;5;28mzip\u001b[39m(Xmarkers, Ymarkers):\n\u001b[1;32m----> 8\u001b[0m     bLATEs, bKEs \u001b[38;5;241m=\u001b[39m \u001b[43mbootstrap_n_save\u001b[49m\u001b[43m(\u001b[49m\u001b[43mXmarker\u001b[49m\u001b[43m,\u001b[49m\u001b[43m \u001b[49m\u001b[43mYmarker\u001b[49m\u001b[43m,\u001b[49m\u001b[43m \u001b[49m\u001b[43mprint_below\u001b[49m\u001b[38;5;241;43m=\u001b[39;49m\u001b[38;5;28;43;01mFalse\u001b[39;49;00m\u001b[43m,\u001b[49m\u001b[43m \u001b[49m\u001b[43mreps\u001b[49m\u001b[38;5;241;43m=\u001b[39;49m\u001b[38;5;241;43m2500\u001b[39;49m\u001b[43m)\u001b[49m\n\u001b[0;32m      9\u001b[0m     KE_pval, LATE_pval \u001b[38;5;241m=\u001b[39m HT(bKEs), HT(bLATEs)\n\u001b[0;32m     10\u001b[0m     \u001b[38;5;28mprint\u001b[39m(Xmarker, Ymarker, KE_pval, LATE_pval)\n",
      "Input \u001b[1;32mIn [5]\u001b[0m, in \u001b[0;36mbootstrap_n_save\u001b[1;34m(ZX_name, Y_name, CI, print_below, save, reps, prog)\u001b[0m\n\u001b[0;32m     25\u001b[0m     plt\u001b[38;5;241m.\u001b[39mioff()\n\u001b[0;32m     27\u001b[0m \u001b[38;5;66;03m# Get bootstrap values\u001b[39;00m\n\u001b[1;32m---> 28\u001b[0m LATEs, KEs \u001b[38;5;241m=\u001b[39m \u001b[43mbootstrap\u001b[49m\u001b[43m(\u001b[49m\u001b[43mpert_df\u001b[49m\u001b[43m[\u001b[49m\u001b[43mZX_name\u001b[49m\u001b[43m]\u001b[49m\u001b[43m,\u001b[49m\u001b[43m \u001b[49m\u001b[43mcounts_df\u001b[49m\u001b[43m[\u001b[49m\u001b[43mZX_name\u001b[49m\u001b[43m]\u001b[49m\u001b[43m,\u001b[49m\u001b[43m \u001b[49m\u001b[43mcounts_df\u001b[49m\u001b[43m[\u001b[49m\u001b[43mY_name\u001b[49m\u001b[43m]\u001b[49m\u001b[43m,\u001b[49m\u001b[43m \u001b[49m\u001b[43mreps\u001b[49m\u001b[43m,\u001b[49m\u001b[43m \u001b[49m\u001b[43mprog\u001b[49m\u001b[43m)\u001b[49m\n\u001b[0;32m     31\u001b[0m \u001b[38;5;28;01mfor\u001b[39;00m effectVals, xLabel, yLabel \u001b[38;5;129;01min\u001b[39;00m [(KEs,ZX_name\u001b[38;5;241m+\u001b[39m\u001b[38;5;124m\"\u001b[39m\u001b[38;5;124m gene\u001b[39m\u001b[38;5;124m\"\u001b[39m,ZX_name \u001b[38;5;241m+\u001b[39m \u001b[38;5;124m\"\u001b[39m\u001b[38;5;124m rna\u001b[39m\u001b[38;5;124m\"\u001b[39m), (LATEs,ZX_name,Y_name)]:\n\u001b[0;32m     32\u001b[0m     \u001b[38;5;66;03m# Get CI values\u001b[39;00m\n\u001b[0;32m     33\u001b[0m     lower_bound, upper_bound \u001b[38;5;241m=\u001b[39m find_CI(effectVals, CI)\n",
      "Input \u001b[1;32mIn [5]\u001b[0m, in \u001b[0;36mbootstrap\u001b[1;34m(Z, X, Y, reps, prog)\u001b[0m\n\u001b[0;32m      8\u001b[0m     \u001b[38;5;28mprint\u001b[39m(x)\n\u001b[0;32m      9\u001b[0m indicies \u001b[38;5;241m=\u001b[39m np\u001b[38;5;241m.\u001b[39mrandom\u001b[38;5;241m.\u001b[39mrandint(\u001b[38;5;241m0\u001b[39m, n, n)\n\u001b[1;32m---> 10\u001b[0m LATE, KE, _ \u001b[38;5;241m=\u001b[39m IV(\u001b[43mZ\u001b[49m\u001b[43m[\u001b[49m\u001b[43mindicies\u001b[49m\u001b[43m]\u001b[49m, X[indicies], Y[indicies])  \u001b[38;5;66;03m# KE = gene Knockout Effect (on X)\u001b[39;00m\n\u001b[0;32m     11\u001b[0m LATEs\u001b[38;5;241m.\u001b[39mappend(LATE)\n\u001b[0;32m     12\u001b[0m KEs\u001b[38;5;241m.\u001b[39mappend(KE)\n",
      "File \u001b[1;32m~\\anaconda3\\lib\\site-packages\\pandas\\core\\series.py:984\u001b[0m, in \u001b[0;36mSeries.__getitem__\u001b[1;34m(self, key)\u001b[0m\n\u001b[0;32m    981\u001b[0m     key \u001b[38;5;241m=\u001b[39m np\u001b[38;5;241m.\u001b[39masarray(key, dtype\u001b[38;5;241m=\u001b[39m\u001b[38;5;28mbool\u001b[39m)\n\u001b[0;32m    982\u001b[0m     \u001b[38;5;28;01mreturn\u001b[39;00m \u001b[38;5;28mself\u001b[39m\u001b[38;5;241m.\u001b[39m_get_values(key)\n\u001b[1;32m--> 984\u001b[0m \u001b[38;5;28;01mreturn\u001b[39;00m \u001b[38;5;28;43mself\u001b[39;49m\u001b[38;5;241;43m.\u001b[39;49m\u001b[43m_get_with\u001b[49m\u001b[43m(\u001b[49m\u001b[43mkey\u001b[49m\u001b[43m)\u001b[49m\n",
      "File \u001b[1;32m~\\anaconda3\\lib\\site-packages\\pandas\\core\\series.py:1019\u001b[0m, in \u001b[0;36mSeries._get_with\u001b[1;34m(self, key)\u001b[0m\n\u001b[0;32m   1015\u001b[0m \u001b[38;5;28;01mif\u001b[39;00m key_type \u001b[38;5;241m==\u001b[39m \u001b[38;5;124m\"\u001b[39m\u001b[38;5;124minteger\u001b[39m\u001b[38;5;124m\"\u001b[39m:\n\u001b[0;32m   1016\u001b[0m     \u001b[38;5;66;03m# We need to decide whether to treat this as a positional indexer\u001b[39;00m\n\u001b[0;32m   1017\u001b[0m     \u001b[38;5;66;03m#  (i.e. self.iloc) or label-based (i.e. self.loc)\u001b[39;00m\n\u001b[0;32m   1018\u001b[0m     \u001b[38;5;28;01mif\u001b[39;00m \u001b[38;5;129;01mnot\u001b[39;00m \u001b[38;5;28mself\u001b[39m\u001b[38;5;241m.\u001b[39mindex\u001b[38;5;241m.\u001b[39m_should_fallback_to_positional:\n\u001b[1;32m-> 1019\u001b[0m         \u001b[38;5;28;01mreturn\u001b[39;00m \u001b[38;5;28;43mself\u001b[39;49m\u001b[38;5;241;43m.\u001b[39;49m\u001b[43mloc\u001b[49m\u001b[43m[\u001b[49m\u001b[43mkey\u001b[49m\u001b[43m]\u001b[49m\n\u001b[0;32m   1020\u001b[0m     \u001b[38;5;28;01melse\u001b[39;00m:\n\u001b[0;32m   1021\u001b[0m         \u001b[38;5;28;01mreturn\u001b[39;00m \u001b[38;5;28mself\u001b[39m\u001b[38;5;241m.\u001b[39miloc[key]\n",
      "File \u001b[1;32m~\\anaconda3\\lib\\site-packages\\pandas\\core\\indexing.py:967\u001b[0m, in \u001b[0;36m_LocationIndexer.__getitem__\u001b[1;34m(self, key)\u001b[0m\n\u001b[0;32m    964\u001b[0m axis \u001b[38;5;241m=\u001b[39m \u001b[38;5;28mself\u001b[39m\u001b[38;5;241m.\u001b[39maxis \u001b[38;5;129;01mor\u001b[39;00m \u001b[38;5;241m0\u001b[39m\n\u001b[0;32m    966\u001b[0m maybe_callable \u001b[38;5;241m=\u001b[39m com\u001b[38;5;241m.\u001b[39mapply_if_callable(key, \u001b[38;5;28mself\u001b[39m\u001b[38;5;241m.\u001b[39mobj)\n\u001b[1;32m--> 967\u001b[0m \u001b[38;5;28;01mreturn\u001b[39;00m \u001b[38;5;28;43mself\u001b[39;49m\u001b[38;5;241;43m.\u001b[39;49m\u001b[43m_getitem_axis\u001b[49m\u001b[43m(\u001b[49m\u001b[43mmaybe_callable\u001b[49m\u001b[43m,\u001b[49m\u001b[43m \u001b[49m\u001b[43maxis\u001b[49m\u001b[38;5;241;43m=\u001b[39;49m\u001b[43maxis\u001b[49m\u001b[43m)\u001b[49m\n",
      "File \u001b[1;32m~\\anaconda3\\lib\\site-packages\\pandas\\core\\indexing.py:1191\u001b[0m, in \u001b[0;36m_LocIndexer._getitem_axis\u001b[1;34m(self, key, axis)\u001b[0m\n\u001b[0;32m   1188\u001b[0m     \u001b[38;5;28;01mif\u001b[39;00m \u001b[38;5;28mhasattr\u001b[39m(key, \u001b[38;5;124m\"\u001b[39m\u001b[38;5;124mndim\u001b[39m\u001b[38;5;124m\"\u001b[39m) \u001b[38;5;129;01mand\u001b[39;00m key\u001b[38;5;241m.\u001b[39mndim \u001b[38;5;241m>\u001b[39m \u001b[38;5;241m1\u001b[39m:\n\u001b[0;32m   1189\u001b[0m         \u001b[38;5;28;01mraise\u001b[39;00m \u001b[38;5;167;01mValueError\u001b[39;00m(\u001b[38;5;124m\"\u001b[39m\u001b[38;5;124mCannot index with multidimensional key\u001b[39m\u001b[38;5;124m\"\u001b[39m)\n\u001b[1;32m-> 1191\u001b[0m     \u001b[38;5;28;01mreturn\u001b[39;00m \u001b[38;5;28;43mself\u001b[39;49m\u001b[38;5;241;43m.\u001b[39;49m\u001b[43m_getitem_iterable\u001b[49m\u001b[43m(\u001b[49m\u001b[43mkey\u001b[49m\u001b[43m,\u001b[49m\u001b[43m \u001b[49m\u001b[43maxis\u001b[49m\u001b[38;5;241;43m=\u001b[39;49m\u001b[43maxis\u001b[49m\u001b[43m)\u001b[49m\n\u001b[0;32m   1193\u001b[0m \u001b[38;5;66;03m# nested tuple slicing\u001b[39;00m\n\u001b[0;32m   1194\u001b[0m \u001b[38;5;28;01mif\u001b[39;00m is_nested_tuple(key, labels):\n",
      "File \u001b[1;32m~\\anaconda3\\lib\\site-packages\\pandas\\core\\indexing.py:1132\u001b[0m, in \u001b[0;36m_LocIndexer._getitem_iterable\u001b[1;34m(self, key, axis)\u001b[0m\n\u001b[0;32m   1129\u001b[0m \u001b[38;5;28mself\u001b[39m\u001b[38;5;241m.\u001b[39m_validate_key(key, axis)\n\u001b[0;32m   1131\u001b[0m \u001b[38;5;66;03m# A collection of keys\u001b[39;00m\n\u001b[1;32m-> 1132\u001b[0m keyarr, indexer \u001b[38;5;241m=\u001b[39m \u001b[38;5;28;43mself\u001b[39;49m\u001b[38;5;241;43m.\u001b[39;49m\u001b[43m_get_listlike_indexer\u001b[49m\u001b[43m(\u001b[49m\u001b[43mkey\u001b[49m\u001b[43m,\u001b[49m\u001b[43m \u001b[49m\u001b[43maxis\u001b[49m\u001b[43m)\u001b[49m\n\u001b[0;32m   1133\u001b[0m \u001b[38;5;28;01mreturn\u001b[39;00m \u001b[38;5;28mself\u001b[39m\u001b[38;5;241m.\u001b[39mobj\u001b[38;5;241m.\u001b[39m_reindex_with_indexers(\n\u001b[0;32m   1134\u001b[0m     {axis: [keyarr, indexer]}, copy\u001b[38;5;241m=\u001b[39m\u001b[38;5;28;01mTrue\u001b[39;00m, allow_dups\u001b[38;5;241m=\u001b[39m\u001b[38;5;28;01mTrue\u001b[39;00m\n\u001b[0;32m   1135\u001b[0m )\n",
      "File \u001b[1;32m~\\anaconda3\\lib\\site-packages\\pandas\\core\\indexing.py:1327\u001b[0m, in \u001b[0;36m_LocIndexer._get_listlike_indexer\u001b[1;34m(self, key, axis)\u001b[0m\n\u001b[0;32m   1324\u001b[0m ax \u001b[38;5;241m=\u001b[39m \u001b[38;5;28mself\u001b[39m\u001b[38;5;241m.\u001b[39mobj\u001b[38;5;241m.\u001b[39m_get_axis(axis)\n\u001b[0;32m   1325\u001b[0m axis_name \u001b[38;5;241m=\u001b[39m \u001b[38;5;28mself\u001b[39m\u001b[38;5;241m.\u001b[39mobj\u001b[38;5;241m.\u001b[39m_get_axis_name(axis)\n\u001b[1;32m-> 1327\u001b[0m keyarr, indexer \u001b[38;5;241m=\u001b[39m \u001b[43max\u001b[49m\u001b[38;5;241;43m.\u001b[39;49m\u001b[43m_get_indexer_strict\u001b[49m\u001b[43m(\u001b[49m\u001b[43mkey\u001b[49m\u001b[43m,\u001b[49m\u001b[43m \u001b[49m\u001b[43maxis_name\u001b[49m\u001b[43m)\u001b[49m\n\u001b[0;32m   1329\u001b[0m \u001b[38;5;28;01mreturn\u001b[39;00m keyarr, indexer\n",
      "File \u001b[1;32m~\\anaconda3\\lib\\site-packages\\pandas\\core\\indexes\\base.py:5777\u001b[0m, in \u001b[0;36mIndex._get_indexer_strict\u001b[1;34m(self, key, axis_name)\u001b[0m\n\u001b[0;32m   5774\u001b[0m     keyarr \u001b[38;5;241m=\u001b[39m com\u001b[38;5;241m.\u001b[39masarray_tuplesafe(keyarr)\n\u001b[0;32m   5776\u001b[0m \u001b[38;5;28;01mif\u001b[39;00m \u001b[38;5;28mself\u001b[39m\u001b[38;5;241m.\u001b[39m_index_as_unique:\n\u001b[1;32m-> 5777\u001b[0m     indexer \u001b[38;5;241m=\u001b[39m \u001b[38;5;28;43mself\u001b[39;49m\u001b[38;5;241;43m.\u001b[39;49m\u001b[43mget_indexer_for\u001b[49m\u001b[43m(\u001b[49m\u001b[43mkeyarr\u001b[49m\u001b[43m)\u001b[49m\n\u001b[0;32m   5778\u001b[0m     keyarr \u001b[38;5;241m=\u001b[39m \u001b[38;5;28mself\u001b[39m\u001b[38;5;241m.\u001b[39mreindex(keyarr)[\u001b[38;5;241m0\u001b[39m]\n\u001b[0;32m   5779\u001b[0m \u001b[38;5;28;01melse\u001b[39;00m:\n",
      "File \u001b[1;32m~\\anaconda3\\lib\\site-packages\\pandas\\core\\indexes\\base.py:5764\u001b[0m, in \u001b[0;36mIndex.get_indexer_for\u001b[1;34m(self, target)\u001b[0m\n\u001b[0;32m   5746\u001b[0m \u001b[38;5;124;03m\"\"\"\u001b[39;00m\n\u001b[0;32m   5747\u001b[0m \u001b[38;5;124;03mGuaranteed return of an indexer even when non-unique.\u001b[39;00m\n\u001b[0;32m   5748\u001b[0m \n\u001b[1;32m   (...)\u001b[0m\n\u001b[0;32m   5761\u001b[0m \u001b[38;5;124;03marray([0, 2])\u001b[39;00m\n\u001b[0;32m   5762\u001b[0m \u001b[38;5;124;03m\"\"\"\u001b[39;00m\n\u001b[0;32m   5763\u001b[0m \u001b[38;5;28;01mif\u001b[39;00m \u001b[38;5;28mself\u001b[39m\u001b[38;5;241m.\u001b[39m_index_as_unique:\n\u001b[1;32m-> 5764\u001b[0m     \u001b[38;5;28;01mreturn\u001b[39;00m \u001b[38;5;28;43mself\u001b[39;49m\u001b[38;5;241;43m.\u001b[39;49m\u001b[43mget_indexer\u001b[49m\u001b[43m(\u001b[49m\u001b[43mtarget\u001b[49m\u001b[43m)\u001b[49m\n\u001b[0;32m   5765\u001b[0m indexer, _ \u001b[38;5;241m=\u001b[39m \u001b[38;5;28mself\u001b[39m\u001b[38;5;241m.\u001b[39mget_indexer_non_unique(target)\n\u001b[0;32m   5766\u001b[0m \u001b[38;5;28;01mreturn\u001b[39;00m indexer\n",
      "File \u001b[1;32m~\\anaconda3\\lib\\site-packages\\pandas\\core\\indexes\\base.py:3784\u001b[0m, in \u001b[0;36mIndex.get_indexer\u001b[1;34m(self, target, method, limit, tolerance)\u001b[0m\n\u001b[0;32m   3779\u001b[0m     target \u001b[38;5;241m=\u001b[39m target\u001b[38;5;241m.\u001b[39mastype(dtype, copy\u001b[38;5;241m=\u001b[39m\u001b[38;5;28;01mFalse\u001b[39;00m)\n\u001b[0;32m   3780\u001b[0m     \u001b[38;5;28;01mreturn\u001b[39;00m this\u001b[38;5;241m.\u001b[39m_get_indexer(\n\u001b[0;32m   3781\u001b[0m         target, method\u001b[38;5;241m=\u001b[39mmethod, limit\u001b[38;5;241m=\u001b[39mlimit, tolerance\u001b[38;5;241m=\u001b[39mtolerance\n\u001b[0;32m   3782\u001b[0m     )\n\u001b[1;32m-> 3784\u001b[0m \u001b[38;5;28;01mreturn\u001b[39;00m \u001b[38;5;28;43mself\u001b[39;49m\u001b[38;5;241;43m.\u001b[39;49m\u001b[43m_get_indexer\u001b[49m\u001b[43m(\u001b[49m\u001b[43mtarget\u001b[49m\u001b[43m,\u001b[49m\u001b[43m \u001b[49m\u001b[43mmethod\u001b[49m\u001b[43m,\u001b[49m\u001b[43m \u001b[49m\u001b[43mlimit\u001b[49m\u001b[43m,\u001b[49m\u001b[43m \u001b[49m\u001b[43mtolerance\u001b[49m\u001b[43m)\u001b[49m\n",
      "File \u001b[1;32m~\\anaconda3\\lib\\site-packages\\pandas\\core\\indexes\\range.py:412\u001b[0m, in \u001b[0;36mRangeIndex._get_indexer\u001b[1;34m(self, target, method, limit, tolerance)\u001b[0m\n\u001b[0;32m    409\u001b[0m     start, stop, step \u001b[38;5;241m=\u001b[39m reverse\u001b[38;5;241m.\u001b[39mstart, reverse\u001b[38;5;241m.\u001b[39mstop, reverse\u001b[38;5;241m.\u001b[39mstep\n\u001b[0;32m    411\u001b[0m target_array \u001b[38;5;241m=\u001b[39m np\u001b[38;5;241m.\u001b[39masarray(target)\n\u001b[1;32m--> 412\u001b[0m locs \u001b[38;5;241m=\u001b[39m \u001b[43mtarget_array\u001b[49m\u001b[43m \u001b[49m\u001b[38;5;241;43m-\u001b[39;49m\u001b[43m \u001b[49m\u001b[43mstart\u001b[49m\n\u001b[0;32m    413\u001b[0m valid \u001b[38;5;241m=\u001b[39m (locs \u001b[38;5;241m%\u001b[39m step \u001b[38;5;241m==\u001b[39m \u001b[38;5;241m0\u001b[39m) \u001b[38;5;241m&\u001b[39m (locs \u001b[38;5;241m>\u001b[39m\u001b[38;5;241m=\u001b[39m \u001b[38;5;241m0\u001b[39m) \u001b[38;5;241m&\u001b[39m (target_array \u001b[38;5;241m<\u001b[39m stop)\n\u001b[0;32m    414\u001b[0m locs[\u001b[38;5;241m~\u001b[39mvalid] \u001b[38;5;241m=\u001b[39m \u001b[38;5;241m-\u001b[39m\u001b[38;5;241m1\u001b[39m\n",
      "\u001b[1;31mKeyboardInterrupt\u001b[0m: "
     ]
    }
   ],
   "source": [
    "markers_df = pd.read_csv(\"KOvsControl_markers - high priority.csv\")\n",
    "\n",
    "Xmarkers = markers_df[\"compare\"].str.extract('^([A-Z|\\d]+)_').values[:,0]\n",
    "Ymarkers = markers_df[\"gene\"].to_list()\n",
    "\n",
    "results = []\n",
    "for Xmarker,Ymarker in zip(Xmarkers, Ymarkers):\n",
    "    bLATEs, bKEs = bootstrap_n_save(Xmarker, Ymarker, print_below=False, reps=2500)\n",
    "    LATE_median = bLATEs.median()\n",
    "    KE_pval, LATE_pval = HT(bKEs), HT(bLATEs)\n",
    "    print(Xmarker, Ymarker, KE_pval, LATE_pval, LATE_median)\n",
    "    results.append([Xmarker, Ymarker, KE_pval, LATE_pval, LATE_median])\n",
    "    \n",
    "out_df = pd.DataFrame(results, columns=[\"XZ\", \"Y\", \"KE_pval\", \"LATE_pval\", \"LATE_median\"])\n",
    "out_df.to_csv(\"results.csv\")"
   ]
  },
  {
   "cell_type": "code",
   "execution_count": null,
   "metadata": {},
   "outputs": [],
   "source": []
  }
 ],
 "metadata": {
  "kernelspec": {
   "display_name": "Python 3 (ipykernel)",
   "language": "python",
   "name": "python3"
  },
  "language_info": {
   "codemirror_mode": {
    "name": "ipython",
    "version": 3
   },
   "file_extension": ".py",
   "mimetype": "text/x-python",
   "name": "python",
   "nbconvert_exporter": "python",
   "pygments_lexer": "ipython3",
   "version": "3.9.12"
  }
 },
 "nbformat": 4,
 "nbformat_minor": 2
}
