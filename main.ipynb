{
 "cells": [
  {
   "cell_type": "markdown",
   "metadata": {},
   "source": [
    "# MA 592 Project\n",
    "\n",
    "## Import Data\n"
   ]
  },
  {
   "cell_type": "code",
   "execution_count": 1,
   "metadata": {},
   "outputs": [],
   "source": [
    "from scipy.io import mmread\n",
    "# Read Count Matrix data and names\n",
    "\n",
    "# counts_mat = mmread(\"./CD14_mtxs/CD14_counts.mtx\").todense()\n",
    "counts_mat = mmread(\"./dataset_norm/CD14_norm_counts.mtx\").todense()\n",
    "# with open(\"./CD14_mtxs/CD14_c_colnames.txt\", 'r') as f:\n",
    "with open(\"./dataset_norm/CD14_norm_c_colnames.txt\", 'r') as f:\n",
    "    counts_rownames = [x[:-1] for x in f.readlines()]\n",
    "# with open(\"./CD14_mtxs/CD14_c_rownames.txt\", 'r') as f:\n",
    "with open(\"./dataset_norm/CD14_norm_c_rownames.txt\", 'r') as f:\n",
    "    counts_colnames = [x[:-1] for x in f.readlines()]\n",
    "\n",
    "# Read Pertubation Matrix data and names\n",
    "\n",
    "# pert_mat = mmread(\"./CD14_mtxs/CD14_perturbations.mtx\").todense()\n",
    "pert_mat = mmread(\"./dataset_norm/CD14_norm_p.mtx\").todense()\n",
    "# with open(\"./CD14_mtxs/CD14_p_colnames.txt\", 'r') as f:\n",
    "with open(\"./dataset_norm/CD14_norm_p_colnames.txt\", 'r') as f:\n",
    "    pert_rownames = [x[:-1] for x in f.readlines()]\n",
    "# with open(\"./CD14_mtxs/CD14_p_rownames.txt\", 'r') as f:\n",
    "with open(\"./dataset_norm/CD14_norm_p_rownames.txt\", 'r') as f:\n",
    "    pert_colnames = [x[:-1] for x in f.readlines()]\n"
   ]
  },
  {
   "cell_type": "markdown",
   "metadata": {},
   "source": [
    "## Conversion to Pandas Dataframe"
   ]
  },
  {
   "cell_type": "code",
   "execution_count": 2,
   "metadata": {},
   "outputs": [],
   "source": [
    "import numpy as np\n",
    "import pandas as pd\n",
    "\n",
    "# Make Counts Dataframe\n",
    "counts_df = pd.DataFrame(data=counts_mat.transpose(), columns=counts_colnames)\n",
    "# Insert proteins by rowname as first column\n",
    "counts_df.insert(loc=0, column=\"Cell\", value=counts_rownames)\n",
    "\n",
    "# Same process for perturbations\n",
    "pert_df = pd.DataFrame(data=pert_mat.transpose(), columns=pert_colnames)\n",
    "pert_df.insert(loc=0, column=\"Cell\", value=pert_rownames)"
   ]
  },
  {
   "cell_type": "code",
   "execution_count": 3,
   "metadata": {},
   "outputs": [
    {
     "data": {
      "text/plain": [
       "0.0      1657\n",
       "36.0        1\n",
       "37.0        2\n",
       "38.0        1\n",
       "40.0        1\n",
       "         ... \n",
       "340.0       1\n",
       "342.0       1\n",
       "352.0       1\n",
       "353.0       1\n",
       "374.0       1\n",
       "Name: CDC42, Length: 283, dtype: int64"
      ]
     },
     "execution_count": 3,
     "metadata": {},
     "output_type": "execute_result"
    }
   ],
   "source": [
    "counts_df[\"CDC42\"].groupby(by=lambda x: counts_df[\"CDC42\"][x] // 0.01).count()"
   ]
  },
  {
   "cell_type": "markdown",
   "metadata": {},
   "source": [
    "## Instrumental Variables"
   ]
  },
  {
   "cell_type": "code",
   "execution_count": 4,
   "metadata": {},
   "outputs": [],
   "source": [
    "import matplotlib.pyplot as plt\n",
    "\n",
    "def getFHat(x, n=None):\n",
    "    if x.dtype == 'float':\n",
    "        x = x.astype(int)\n",
    "    f = x.value_counts().sort_index()\n",
    "    if n is None:\n",
    "        n = f.index.max()\n",
    "    return f.reindex(range(n+1), fill_value=0).cumsum() / f.sum()\n",
    "\n",
    "def getThreshold(fx0, fx1, d=0.25, n=None):\n",
    "    if n is None:\n",
    "        n = fx0.index.max()\n",
    "    weights = (n-pd.Series(range(n+1)))/(n*(1+pd.Series(range(n+1)))**d) # Considering setting this to 1\n",
    "    return (weights*(fx1-fx0)).argmax()\n",
    "\n",
    "def IV(Z, X, Y, d=0.25):\n",
    "    X0, X1 = X.loc[Z == 0], X.loc[Z == 1]\n",
    "    Y0, Y1 = Y.loc[Z == 0], Y.loc[Z == 1]\n",
    "\n",
    "    Nx = int(X.max())\n",
    "    Ny = int(Y.max())\n",
    "    FX0, FX1 = getFHat(X0, Nx), getFHat(X1, Nx)\n",
    "    FY0, FY1 = getFHat(Y0, Ny), getFHat(Y1, Ny)\n",
    "    alpha = getThreshold(FX0, FX1, d, Nx)\n",
    "    beta = getThreshold(FY0, FY1, d, Ny)\n",
    "#     alpha=beta=0.5\n",
    "\n",
    "    A0, A1 = (X0 > alpha).astype(int), (X1 > alpha).astype(int)\n",
    "    B0, B1 = (Y0 > beta).astype(int), (Y1 > beta).astype(int)\n",
    "\n",
    "    Adiff, Bdiff = A0.mean()-A1.mean(), B0.mean()-B1.mean()\n",
    "    LATE = Bdiff / Adiff if Adiff != 0 else float(\"nan\")\n",
    "    return LATE, Adiff, Bdiff"
   ]
  },
  {
   "cell_type": "markdown",
   "metadata": {},
   "source": [
    "# Bootstrap"
   ]
  },
  {
   "cell_type": "code",
   "execution_count": 5,
   "metadata": {
    "scrolled": true
   },
   "outputs": [],
   "source": [
    "%matplotlib inline\n",
    "def bootstrap(Z, X, Y, reps=500, prog = True):\n",
    "    LATEs = []\n",
    "    KEs = []\n",
    "    n = X.shape[0]\n",
    "    for x in range(reps):\n",
    "        if prog and x % 1000 == 0:\n",
    "            print(x)\n",
    "        indicies = np.random.randint(0, n, n)\n",
    "        LATE, KE, _ = IV(Z[indicies], X[indicies], Y[indicies])  # KE = gene Knockout Effect (on X)\n",
    "        LATEs.append(LATE)\n",
    "        KEs.append(KE)\n",
    "    return np.asarray(LATEs), np.asarray(KEs)\n",
    "\n",
    "def save_graph(ZX_name, Y_name, figure):\n",
    "    figure.savefig(\"./figures/{} vs {}\".format(ZX_name, Y_name), facecolor='white', transparent=False)\n",
    "\n",
    "def find_CI(data, CI):\n",
    "    return round(np.percentile(data, 100 - CI),3), round(np.percentile(data, CI),3)\n",
    "\n",
    "def bootstrap_n_save(ZX_name, Y_name, CI = 95, print_below = True, save = True, reps=2500, prog=False):\n",
    "    if print_below:\n",
    "        plt.ion()\n",
    "    else:\n",
    "        plt.ioff()\n",
    "    \n",
    "    # Get bootstrap values\n",
    "    LATEs, KEs = bootstrap(pert_df[ZX_name], counts_df[ZX_name], counts_df[Y_name], reps, prog)\n",
    "    \n",
    "    \n",
    "    for effectVals, xLabel, yLabel in [(KEs,ZX_name+\" gene\",ZX_name + \" rna\"), (LATEs,ZX_name,Y_name)]:\n",
    "        # Get CI values\n",
    "        lower_bound, upper_bound = find_CI(effectVals, CI)\n",
    "\n",
    "        # Create graph\n",
    "        fig, ax = plt.subplots()\n",
    "        ax.hist(effectVals)\n",
    "        ax.set_title(\"{} vs {} ({}% CI: {}-{})\".format(xLabel, yLabel, CI, lower_bound, upper_bound))\n",
    "        ax.set_xlabel(\"Effect\")\n",
    "        ax.set_ylabel(\"Count\")\n",
    "\n",
    "        # Save figure if desired\n",
    "        if save:\n",
    "            save_graph(xLabel, yLabel, fig)\n",
    "\n",
    "        # Show figure in jupyter if desired\n",
    "        if print_below:\n",
    "            plt.show()\n",
    "        else:\n",
    "            plt.close()\n",
    "            \n",
    "    return LATEs, KEs"
   ]
  },
  {
   "cell_type": "markdown",
   "metadata": {},
   "source": [
    "## Hypothesis Testing"
   ]
  },
  {
   "cell_type": "code",
   "execution_count": 6,
   "metadata": {},
   "outputs": [],
   "source": [
    "def HT(Xvals, two_sided=True):\n",
    "    leftQ, rightQ = (Xvals <= 0).mean(), (Xvals >= 0).mean()\n",
    "    \n",
    "    if two_sided:\n",
    "        pval = 2*min(leftQ, rightQ)\n",
    "    else: # right-tailed otherwise since the statistic for testing is treatment effects\n",
    "        pval = rightQ\n",
    "    return pval"
   ]
  },
  {
   "cell_type": "markdown",
   "metadata": {},
   "source": [
    "### Import gene pairs for analysis"
   ]
  },
  {
   "cell_type": "code",
   "execution_count": null,
   "metadata": {
    "scrolled": false
   },
   "outputs": [
    {
     "name": "stdout",
     "output_type": "stream",
     "text": [
      "TRAF6 TRAF1 0.5296 0.5296 -16.676933302818867\n",
      "TRAF6 CD83 0.5376 0.5376 -9.209853333969312\n",
      "TRAF6 NFKBIA 0.5112 0.5112 -6.592244310189493\n",
      "TRAF6 NFKB1 0.5016 0.5016 -9.787861579103426\n",
      "TRAF6 CD44 0.5432 0.5432 -8.605914597013665\n",
      "TRAF6 CD40 0.5224 0.5224 -12.859085639509145\n",
      "TRAF6 CD300A 0.5152 0.516 0.8480595081534019\n",
      "TRAF6 TRAF3IP3 0.5328 0.5336 2.2362035117206984\n",
      "TRAF6 TRAPPC6A 0.528 0.532 0.798681304513202\n",
      "TRAF6 CD1D 0.5088 0.5088 2.777178207478269\n",
      "TRAF6 MAP3K1 0.5448 0.5456 0.853975959024364\n",
      "TRAF6 CD164 0.5808 0.5808 0.5642341640290411\n",
      "TRAF6 CD82 0.5176 0.5216 -6.914205131892745\n",
      "TRAF6 MAP3K11 0.5576 0.5608 2.8353680192865482\n",
      "TRAF6 IKBKG 0.4944 0.496 1.5583220513597238\n",
      "TRAF6 CDC123 0.5296 0.5296 0.9029575178481847\n",
      "NFKB1 NFKB1 0.0 0.0 1.0\n",
      "NFKB1 TRAF1 0.0 0.0 1.3421967287744514\n",
      "NFKB1 NFKB2 0.0 0.0008 1.2108086405269438\n",
      "NFKB1 MAP3K8 0.0 0.0 1.151441802676053\n",
      "NFKB1 CD82 0.0 0.004 1.301642180499395\n",
      "NFKB1 CD69 0.0 0.0032 -0.26742806878540426\n",
      "NFKB1 NFKBIA 0.0 0.0088 0.44412318920437577\n",
      "NFKB1 MAPKBP1 0.0 0.004 0.8541872298953737\n",
      "NFKB1 IKBKE 0.0 0.008 -0.09765426186850346\n",
      "NFKB1 CD58 0.0 0.0304 0.6971255971590444\n",
      "NFKB1 CD44 0.0 0.036 0.43071781379655516\n",
      "MAPK1 CD52 0.0 0.0 1.70093228865406\n",
      "MAPK1 CD74 0.0008 0.0008 -0.04862370118904888\n",
      "MAPK1 CD209 0.0008 0.0008 -0.1418621819687278\n",
      "MAPK1 CD80 0.0008 0.0008 -0.24643180927945638\n",
      "MAPK1 CD81 0.0008 0.0776 0.15609918415018328\n",
      "MAPK1 MAPK1 0.0 0.0 1.0\n",
      "MAPK1 CD151 0.0 0.0024 0.8158873318431281\n",
      "MAPK1 IRF8 0.0008 0.0056 -0.10136459907021503\n",
      "MAPK1 CD274 0.0008 0.0056 -0.2532493256416153\n",
      "MAPK1 CD68 0.0024 0.0048 -0.12409852790714865\n",
      "MAPK1 CD47 0.0 0.0 0.7027830318150308\n",
      "MAPK1 CD40 0.0016 0.004 -0.1791438899771267\n",
      "MAPK1 CDC20 0.0 0.0 0.5502165400902068\n",
      "MAPK1 CDC27 0.0 0.04 0.641142938507276\n",
      "MAPK1 MAP4K4 0.0016 0.0144 -0.23314733997678577\n",
      "MAPK1 CD99 0.0016 0.272 0.17853428761630374\n",
      "MAPK1 CDC42BPA 0.0008 0.0168 0.4314176982147029\n",
      "MAPK1 CD83 0.0 0.0008 -0.28545414949925196\n",
      "MAPK1 CDC34 0.0008 0.004 0.5573017642972973\n",
      "MAPK1 CDKN2AIPNL 0.0 0.5104 0.49915920758212395\n",
      "MAPK1 CDK5RAP2 0.0008 0.0056 0.47950889628120175\n",
      "MAPK1 MAP1LC3B 0.0008 0.008 0.5197231254508532\n",
      "MAPK1 CDIP1 0.0008 0.0008 0.38461935789889984\n",
      "MAPK1 TRAF3IP3 0.0016 0.0024 -0.2956428181027372\n",
      "MAPK1 CDK13 0.0008 0.1144 0.6513030901508947\n",
      "MAPK1 CDK14 0.0008 0.2272 0.47001899942954256\n",
      "MAPK1 CDKN2C 0.0 0.0088 0.4613784284568771\n",
      "IKBKB CD40 0.6352 0.6352 1.8171948005973562\n",
      "IKBKB NFKBIA 0.6592 0.732 0.22178082154928436\n",
      "IKBKB MAP3K8 0.6648 0.6656 1.8022629835218908\n",
      "IKBKB NFKB2 0.6488 0.6504 1.2075185571966656\n",
      "IKBKB CD82 0.604 0.604 1.2914090125043827\n",
      "IKBKB CD44 0.6352 0.8288 0.10472157542026889\n",
      "IKBKB CDH2 0.6608 0.664 -0.15698319726209398\n",
      "IKBKB MAP1LC3B 0.6496 0.66 -0.12774380360211596\n",
      "IKBKB CD83 0.6304 0.648 0.42801797558593635\n",
      "IKBKB IRF3 0.636 0.6424 0.9112700012651984\n",
      "IKBKB MAPKBP1 0.592 0.6328 1.0275425182463493\n",
      "IKBKB CD164 0.628 0.6296 -0.661900060761621\n",
      "MAP3K7 NFKBIA 0.42 0.42 2.5541202833371566\n",
      "MAP3K7 NFKB1 0.4144 0.4144 3.452701246512861\n",
      "MAP3K7 CD83 0.3664 0.3664 3.646049939185088\n",
      "MAP3K7 CD40 0.4152 0.4152 3.8539888189116187\n",
      "MAP3K7 TRAF1 0.372 0.372 3.877202475412276\n",
      "MAP3K7 MAP4K4 0.3968 0.3976 2.618418625661489\n",
      "MAP3K7 CD53 0.4184 0.4184 3.4655676592574043\n",
      "MAP3K7 CDKN2C 0.42 0.4208 -0.32113139459780504\n",
      "MAP3K7 CD58 0.4072 0.4072 2.9345757924085305\n",
      "MAPK3 MAPK3 0.0 0.0 1.0\n",
      "MAP3K14 CDH24 0.9464 0.9424 0.10853803310261523\n",
      "CDHR3 MAP3K7 0.0 0.0552 15.556752695095508\n",
      "IRF2 TRAF3IP3 0.0272 0.0288 4.067808823654401\n",
      "MAP3K1 CDKN3 0.7632 0.7688 0.5993560508717011\n",
      "MAP3K1 CD33 0.7312 0.7328 0.5377926102983274\n",
      "IRF1 IRF1 0.1432 0.0 1.0\n",
      "IRF1 MAP4K2 0.16 0.164 -0.7962648297610447\n",
      "IKBKG NFKBIA 0.4968 0.4968 5.242296778412733\n",
      "IKBKG NFKB1 0.4968 0.496 nan\n",
      "IKBKG CD83 0.5128 0.5128 4.0764293950597335\n",
      "IKBKG NFKBIZ 0.5136 0.5136 5.231698598639758\n",
      "IKBKG CD40 0.5128 0.5128 4.3640257388790165\n",
      "IKBKG TRAF1 0.5008 0.5 3.1768713048763546\n",
      "IKBKG CDH23 0.5072 0.5112 -0.5496597840139645\n",
      "IKBKG CDC16 0.5088 0.508 -0.654075989630111\n",
      "IKBKG CD81 0.492 0.5552 nan\n",
      "IKBKG CD164 0.504 0.5344 -0.3092954930149503\n",
      "IKBKG NFKB2 0.5512 0.5592 3.707293741708892\n",
      "IKBKG MAP3K20 0.5104 0.516 -0.4654957048750149\n",
      "IKBKG IRF8 0.4904 0.4912 2.6025929782806516\n",
      "IRF4 CD69 0.3088 0.3104 -12.93272953720361\n",
      "MAP3K8 CDK8 0.1504 0.16 -0.24022927313997075\n",
      "CD36 CD163L1 0.2008 0.204 -0.3794509903540775\n",
      "MAP2K1 MAP2K1 0.0 0.0 1.0\n",
      "MAP2K1 CD36 0.0 0.004 -0.042896622757049876\n",
      "MAP2K1 CD52 0.0 0.0112 0.3803257602900556\n",
      "CD14 CDK12 0.0104 0.012 1.6717232357302119\n",
      "CD14 TRAF1 0.0152 0.056 1.2847578670830562\n",
      "CD14 CD70 0.0104 0.0768 1.0779153580309053\n",
      "NFKBIA NFKBIA 0.0 0.0 1.0\n",
      "NFKBIA CDC42EP4 0.0 0.0016 -0.10969005038541453\n",
      "NFKBIA CDK10 0.0 0.0096 -0.1311740030777165\n",
      "NFKBIA NFKBID 0.0 0.0016 -0.3761142137443021\n"
     ]
    }
   ],
   "source": [
    "for p in [\"high\", \"medium\", \"low\"]:\n",
    "    markers_df = pd.read_csv(\"KOvsControl_markers - {} priority.csv\".format(p))\n",
    "\n",
    "    Xmarkers = markers_df[\"compare\"].str.extract('^([A-Z|\\d]+)_').values[:,0]\n",
    "    Ymarkers = markers_df[\"gene\"].to_list()\n",
    "\n",
    "    results = []\n",
    "    for Xmarker,Ymarker in zip(Xmarkers, Ymarkers):\n",
    "        bLATEs, bKEs = bootstrap_n_save(Xmarker, Ymarker, print_below=False, reps=2500)\n",
    "        LATE_median = np.median(bLATEs)\n",
    "        KE_pval, LATE_pval = HT(bKEs, two_sided=False), HT(bLATEs)\n",
    "        print(Xmarker, Ymarker, KE_pval, LATE_pval, LATE_median)\n",
    "        results.append([Xmarker, Ymarker, KE_pval, LATE_pval, LATE_median])\n",
    "\n",
    "    out_df = pd.DataFrame(results, columns=[\"XZ\", \"Y\", \"KE_pval\", \"LATE_pval\", \"LATE_median\"])\n",
    "    out_df.to_csv(\"results {} priority -- varied threshold.csv\".format(p))"
   ]
  },
  {
   "cell_type": "code",
   "execution_count": null,
   "metadata": {},
   "outputs": [],
   "source": []
  }
 ],
 "metadata": {
  "kernelspec": {
   "display_name": "Python 3 (ipykernel)",
   "language": "python",
   "name": "python3"
  },
  "language_info": {
   "codemirror_mode": {
    "name": "ipython",
    "version": 3
   },
   "file_extension": ".py",
   "mimetype": "text/x-python",
   "name": "python",
   "nbconvert_exporter": "python",
   "pygments_lexer": "ipython3",
   "version": "3.9.12"
  }
 },
 "nbformat": 4,
 "nbformat_minor": 2
}
