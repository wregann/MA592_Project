{
 "cells": [
  {
   "cell_type": "markdown",
   "metadata": {},
   "source": [
    "# MA 592 Project\n",
    "\n",
    "## Import Data\n"
   ]
  },
  {
   "cell_type": "code",
   "execution_count": 1,
   "metadata": {},
   "outputs": [],
   "source": [
    "from scipy.io import mmread\n",
    "# Read Count Matrix data and names\n",
    "counts_mat = mmread(\"./CD14_mtxs/CD14_counts.mtx\").todense()\n",
    "with open(\"./CD14_mtxs/CD14_c_colnames.txt\", 'r') as f:\n",
    "    counts_rownames = [x[:-1] for x in f.readlines()]\n",
    "with open(\"./CD14_mtxs/CD14_c_rownames.txt\", 'r') as f:\n",
    "    counts_colnames = [x[:-1] for x in f.readlines()]\n",
    "\n",
    "# Read Pertubation Matrix data and names\n",
    "pert_mat = mmread(\"./CD14_mtxs/CD14_perturbations.mtx\").todense()\n",
    "with open(\"./CD14_mtxs/CD14_p_colnames.txt\", 'r') as f:\n",
    "    pert_rownames = [x[:-1] for x in f.readlines()]\n",
    "with open(\"./CD14_mtxs/CD14_p_rownames.txt\", 'r') as f:\n",
    "    pert_colnames = [x[:-1] for x in f.readlines()]\n"
   ]
  },
  {
   "cell_type": "markdown",
   "metadata": {},
   "source": [
    "## Conversion to Pandas Dataframe"
   ]
  },
  {
   "cell_type": "code",
   "execution_count": 2,
   "metadata": {},
   "outputs": [],
   "source": [
    "import numpy as np\n",
    "import pandas as pd\n",
    "\n",
    "# Make Counts Dataframe\n",
    "counts_df = pd.DataFrame(data=counts_mat.transpose(), columns=counts_colnames)\n",
    "# Insert proteins by rowname as first column\n",
    "counts_df.insert(loc=0, column=\"Cell\", value=counts_rownames)\n",
    "\n",
    "# Same process for perturbations\n",
    "pert_df = pd.DataFrame(data=pert_mat.transpose(), columns=pert_colnames)\n",
    "pert_df.insert(loc=0, column=\"Cell\", value=pert_rownames)"
   ]
  },
  {
   "cell_type": "markdown",
   "metadata": {},
   "source": [
    "## Instrumental Variables"
   ]
  },
  {
   "cell_type": "code",
   "execution_count": 3,
   "metadata": {},
   "outputs": [],
   "source": [
    "import matplotlib.pyplot as plt\n",
    "\n",
    "def getFHat(x, n=None):\n",
    "    f = x.value_counts().sort_index()\n",
    "    if n is None:\n",
    "        n = f.index.max()\n",
    "    return f.reindex(range(n+1), fill_value=0).cumsum() / f.sum()\n",
    "\n",
    "def IV(Z, X, Y, d=0.25):\n",
    "    X0, X1 = X.loc[Z == 0], X.loc[Z == 1]\n",
    "    Y0, Y1 = Y.loc[Z == 0], Y.loc[Z == 1]\n",
    "\n",
    "    N = X.max()\n",
    "    FX0, FX1 = getFHat(X0, N), getFHat(X1, N)\n",
    "    FY0, FY1 = getFHat(Y0, N), getFHat(Y1, N)\n",
    "    alpha = ((FX1-FX0) / (1+pd.Series(range(N+1)))**d).argmax()\n",
    "    beta = ((FY1-FY0) / (1+pd.Series(range(N+1)))**d).argmax()\n",
    "\n",
    "    A0, A1 = (X0 > alpha).astype(int), (X1 > alpha).astype(int)\n",
    "    B0, B1 = (Y0 > beta).astype(int), (Y1 > beta).astype(int)\n",
    "\n",
    "    LATE = (B0.mean()-B1.mean()) / (A0.mean()-A1.mean())\n",
    "#     LATE = (Y0.mean()-Y1.mean()) / (A0.mean()-A1.mean())\n",
    "#     print(B0.mean()-B1.mean(), A0.mean()-A1.mean(), LATE)\n",
    "    return LATE"
   ]
  },
  {
   "cell_type": "code",
   "execution_count": 4,
   "metadata": {},
   "outputs": [
    {
     "name": "stdout",
     "output_type": "stream",
     "text": [
      "0.2533244204645833\n"
     ]
    }
   ],
   "source": [
    "print(IV(pert_df[\"NFKB1\"], counts_df[\"NFKB1\"], counts_df[\"CD14\"]))"
   ]
  }
 ],
 "metadata": {
  "kernelspec": {
   "display_name": "Python 3 (ipykernel)",
   "language": "python",
   "name": "python3"
  },
  "language_info": {
   "codemirror_mode": {
    "name": "ipython",
    "version": 3
   },
   "file_extension": ".py",
   "mimetype": "text/x-python",
   "name": "python",
   "nbconvert_exporter": "python",
   "pygments_lexer": "ipython3",
   "version": "3.9.12"
  }
 },
 "nbformat": 4,
 "nbformat_minor": 2
}
