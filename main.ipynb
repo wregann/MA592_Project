{
 "cells": [
  {
   "cell_type": "markdown",
   "metadata": {},
   "source": [
    "# MA 592 Project\n",
    "\n",
    "## Import Data\n"
   ]
  },
  {
   "cell_type": "code",
   "execution_count": 1,
   "metadata": {},
   "outputs": [],
   "source": [
    "from scipy.io import mmread\n",
    "# Read Count Matrix data and names\n",
    "\n",
    "# counts_mat = mmread(\"./CD14_mtxs/CD14_counts.mtx\").todense()\n",
    "counts_mat = mmread(\"./dataset_norm/CD14_norm_counts.mtx\").todense()\n",
    "# with open(\"./CD14_mtxs/CD14_c_colnames.txt\", 'r') as f:\n",
    "with open(\"./dataset_norm/CD14_norm_c_colnames.txt\", 'r') as f:\n",
    "    counts_rownames = [x[:-1] for x in f.readlines()]\n",
    "# with open(\"./CD14_mtxs/CD14_c_rownames.txt\", 'r') as f:\n",
    "with open(\"./dataset_norm/CD14_norm_c_rownames.txt\", 'r') as f:\n",
    "    counts_colnames = [x[:-1] for x in f.readlines()]\n",
    "\n",
    "# Read Pertubation Matrix data and names\n",
    "\n",
    "# pert_mat = mmread(\"./CD14_mtxs/CD14_perturbations.mtx\").todense()\n",
    "pert_mat = mmread(\"./dataset_norm/CD14_norm_p.mtx\").todense()\n",
    "# with open(\"./CD14_mtxs/CD14_p_colnames.txt\", 'r') as f:\n",
    "with open(\"./dataset_norm/CD14_norm_p_colnames.txt\", 'r') as f:\n",
    "    pert_rownames = [x[:-1] for x in f.readlines()]\n",
    "# with open(\"./CD14_mtxs/CD14_p_rownames.txt\", 'r') as f:\n",
    "with open(\"./dataset_norm/CD14_norm_p_rownames.txt\", 'r') as f:\n",
    "    pert_colnames = [x[:-1] for x in f.readlines()]\n"
   ]
  },
  {
   "cell_type": "markdown",
   "metadata": {},
   "source": [
    "## Conversion to Pandas Dataframe"
   ]
  },
  {
   "cell_type": "code",
   "execution_count": 2,
   "metadata": {},
   "outputs": [],
   "source": [
    "import numpy as np\n",
    "import pandas as pd\n",
    "\n",
    "# Make Counts Dataframe\n",
    "counts_df = pd.DataFrame(data=counts_mat.transpose(), columns=counts_colnames)\n",
    "# Insert proteins by rowname as first column\n",
    "counts_df.insert(loc=0, column=\"Cell\", value=counts_rownames)\n",
    "\n",
    "# Same process for perturbations\n",
    "pert_df = pd.DataFrame(data=pert_mat.transpose(), columns=pert_colnames)\n",
    "pert_df.insert(loc=0, column=\"Cell\", value=pert_rownames)"
   ]
  },
  {
   "cell_type": "code",
   "execution_count": 3,
   "metadata": {},
   "outputs": [
    {
     "data": {
      "text/plain": [
       "0.0      1657\n",
       "36.0        1\n",
       "37.0        2\n",
       "38.0        1\n",
       "40.0        1\n",
       "         ... \n",
       "340.0       1\n",
       "342.0       1\n",
       "352.0       1\n",
       "353.0       1\n",
       "374.0       1\n",
       "Name: CDC42, Length: 283, dtype: int64"
      ]
     },
     "execution_count": 3,
     "metadata": {},
     "output_type": "execute_result"
    }
   ],
   "source": [
    "counts_df[\"CDC42\"].groupby(by=lambda x: counts_df[\"CDC42\"][x] // 0.01).count()"
   ]
  },
  {
   "cell_type": "markdown",
   "metadata": {},
   "source": [
    "## Instrumental Variables"
   ]
  },
  {
   "cell_type": "code",
   "execution_count": 4,
   "metadata": {},
   "outputs": [],
   "source": [
    "import matplotlib.pyplot as plt\n",
    "\n",
    "def getFHat(x, n=None):\n",
    "    if x.dtype == 'float':\n",
    "        f = x.groupby(by=lambda i: x[i] // 1).count()\n",
    "    else:\n",
    "        f = x.value_counts().sort_index()\n",
    "    if n is None:\n",
    "        n = f.index.max()\n",
    "    return f.reindex(range(n+1), fill_value=0).cumsum() / f.sum()\n",
    "\n",
    "def getThreshold(fx0, fx1, d=0.25, n=None):\n",
    "    if n is None:\n",
    "        n = fx0.index.max()\n",
    "    weights = (n-pd.Series(range(n+1)))/(n*(1+pd.Series(range(n+1)))**d) # Considering setting this to 1\n",
    "    return (weights*(fx1-fx0)).argmax()\n",
    "\n",
    "def IV(Z, X, Y, d=0.25):\n",
    "    X0, X1 = X.loc[Z == 0], X.loc[Z == 1]\n",
    "    Y0, Y1 = Y.loc[Z == 0], Y.loc[Z == 1]\n",
    "\n",
    "    Nx = int(X.max())\n",
    "    Ny = int(Y.max())\n",
    "    FX0, FX1 = getFHat(X0, Nx), getFHat(X1, Nx)\n",
    "    FY0, FY1 = getFHat(Y0, Ny), getFHat(Y1, Ny)\n",
    "    alpha = getThreshold(FX0, FX1, d, Nx)\n",
    "    beta = getThreshold(FY0, FY1, d, Ny)\n",
    "#     alpha=beta=0.5\n",
    "\n",
    "    A0, A1 = (X0 > alpha).astype(int), (X1 > alpha).astype(int)\n",
    "    B0, B1 = (Y0 > beta).astype(int), (Y1 > beta).astype(int)\n",
    "\n",
    "    Adiff, Bdiff = A0.mean()-A1.mean(), B0.mean()-B1.mean()\n",
    "    LATE = Bdiff / Adiff\n",
    "    return LATE, Adiff, Bdiff"
   ]
  },
  {
   "cell_type": "markdown",
   "metadata": {},
   "source": [
    "### Import gene pairs for analysis"
   ]
  },
  {
   "cell_type": "code",
   "execution_count": 5,
   "metadata": {
    "scrolled": false
   },
   "outputs": [
    {
     "name": "stdout",
     "output_type": "stream",
     "text": [
      "TRAF6 TRAF1 (-115.96647928378093, -0.0023064400724154, 0.2674697348770427)\n",
      "TRAF6 CD83 (-60.84405579845924, -0.0023064400724154, 0.14033316846184496)\n",
      "TRAF6 NFKBIA (-39.59379554445139, -0.0023064400724154, 0.091320716662745)\n",
      "TRAF6 NFKB1 (-64.6579221320008, -0.0023064400724154, 0.14912962260436124)\n",
      "TRAF6 CD44 (-58.04288986050384, -0.0023064400724154, 0.13387244709305957)\n",
      "TRAF6 CD40 (-80.59816781178425, -0.0023064400724154, 0.18589484400436024)\n",
      "TRAF6 CD300A (3.05330002082032, -0.0023064400724154, -0.007042253521126761)\n",
      "TRAF6 TRAF3IP3 (16.194045388298974, -0.0023064400724154, -0.03735059521808656)\n",
      "TRAF6 TRAPPC6A (2.195919217155944, -0.0023064400724154, -0.005064756078235523)\n",
      "TRAF6 CD1D (19.408494690818234, -0.0023064400724154, -0.04476452990016471)\n",
      "TRAF6 MAP3K1 (2.9808453050176964, -0.0023064400724154, -0.00687514106116412)\n",
      "TRAF6 CD164 (3.9483656048303133, -0.0023064400724154, -0.009106668651527303)\n",
      "TRAF6 CD82 (-48.50010410160315, -0.0023064400724154, 0.111862583616256)\n",
      "TRAF6 MAP3K11 (21.06995627732666, -0.0023064400724154, -0.04859659148206662)\n",
      "TRAF6 IKBKG (44.136997709764714, -0.0023064400724154, -0.10179934019390807)\n",
      "TRAF6 CDC123 (6.912971059754318, -0.0023064400724154, -0.015944353471665312)\n",
      "NFKB1 NFKB1 (1.0, 0.11885141509829189, 0.11885141509829189)\n",
      "NFKB1 TRAF1 (1.3579407462239372, 0.11885141509829189, 0.1613931793083454)\n",
      "NFKB1 NFKB2 (1.2285729392481366, 0.11885141509829189, 0.14601763238110882)\n",
      "NFKB1 MAP3K8 (1.1459348948694903, 0.11885141509829189, 0.13619598386575127)\n",
      "NFKB1 CD82 (1.3189270166904599, 0.11885141509829189, 0.1567563423450296)\n",
      "NFKB1 CD69 (-0.270551120040889, 0.11885141509829189, -0.032155383473287495)\n",
      "NFKB1 NFKBIA (0.4140326759371861, 0.11885141509829189, 0.04920836943206708)\n",
      "NFKB1 MAPKBP1 (0.8477942861171328, 0.11885141509829189, 0.1007615506172674)\n",
      "NFKB1 IKBKE (-0.03265831262447347, 0.11885141509829189, -0.0038814866701410828)\n",
      "NFKB1 CD58 (0.6993954775374961, 0.11885141509829189, 0.08312414221867703)\n",
      "NFKB1 CD44 (0.42669768589506346, 0.11885141509829189, 0.05071362378779476)\n",
      "MAPK1 CD52 (1.7075596732737413, 0.1990828201594106, 0.33994579534581815)\n",
      "MAPK1 CD74 (-0.04040463920799793, 0.1990828201594106, -0.008043869521051721)\n",
      "MAPK1 CD209 (-0.14282205783342716, 0.1990828201594106, -0.02843341805444912)\n",
      "MAPK1 CD80 (-0.24914994431764767, 0.1990828201594106, -0.049601473557317415)\n",
      "MAPK1 CD81 (0.1449498435389416, 0.1990828201594106, 0.028857023633397816)\n",
      "MAPK1 MAPK1 (1.0, 0.1990828201594106, 0.1990828201594106)\n",
      "MAPK1 CD151 (0.8193711069990385, 0.1990828201594106, 0.16312271073850676)\n",
      "MAPK1 IRF8 (-0.021815625780717385, 0.1990828201594106, -0.0043431163039675605)\n",
      "MAPK1 CD274 (-0.25320014735709956, 0.1990828201594106, -0.05040779940062971)\n",
      "MAPK1 CD68 (-0.103996849606836, 0.1990828201594106, -0.020703986107423)\n",
      "MAPK1 CD47 (0.7051608860057333, 0.1990828201594106, 0.14038541785213005)\n",
      "MAPK1 CD40 (-0.15194930577021604, 0.1990828201594106, -0.03025049631399921)\n",
      "MAPK1 CDC20 (0.5531628846422567, 0.1990828201594106, 0.11012522708209518)\n",
      "MAPK1 CDC27 (0.6322487624967713, 0.1990828201594106, 0.12586986668015462)\n",
      "MAPK1 MAP4K4 (-0.21149554752901617, 0.1990828201594106, -0.0421051300532352)\n",
      "MAPK1 CD99 (0.18351463620157443, 0.1990828201594106, 0.0365346113155377)\n",
      "MAPK1 CDC42BPA (0.4244096188617087, 0.1990828201594106, 0.08449266382576955)\n",
      "MAPK1 CD83 (-0.2897641862966366, 0.1990828201594106, -0.05768707138913125)\n",
      "MAPK1 CDC34 (0.5498664046984896, 0.1990828201594106, 0.10946895455829109)\n",
      "MAPK1 CDKN2AIPNL (0.5135818361202739, 0.1990828201594106, 0.10224532031747235)\n",
      "MAPK1 CDK5RAP2 (0.47633394167538246, 0.1990828201594106, 0.09482990444638334)\n",
      "MAPK1 MAP1LC3B (0.5168402064693152, 0.1990828201594106, 0.10289400587568331)\n",
      "MAPK1 CDIP1 (0.38345662492960314, 0.1990828201594106, 0.07633962629979474)\n",
      "MAPK1 TRAF3IP3 (-0.3004623964160043, 0.1990828201594106, -0.059816901230352916)\n",
      "MAPK1 CDK13 (0.6574815486045537, 0.1990828201594106, 0.13089328089897112)\n",
      "MAPK1 CDK14 (0.47249122420721457, 0.1990828201594106, 0.09406488541574465)\n",
      "MAPK1 CDKN2C (0.4630845059091044, 0.1990828201594106, 0.09219216940851174)\n"
     ]
    }
   ],
   "source": [
    "markers_df = pd.read_csv(\"KOvsControl_markers - high priority.csv\")\n",
    "\n",
    "Xmarkers = markers_df[\"compare\"].str.extract('^([A-Z|\\d]+)_').values[:,0]\n",
    "Ymarkers = markers_df[\"gene\"].to_list()\n",
    "for Xmarker,Ymarker in zip(Xmarkers, Ymarkers):\n",
    "    try:\n",
    "        print(Xmarker, Ymarker, IV(pert_df[Xmarker], counts_df[Xmarker], counts_df[Ymarker]))\n",
    "    except KeyError as e:\n",
    "        print(\"Not Found:\", e)"
   ]
  },
  {
   "cell_type": "code",
   "execution_count": null,
   "metadata": {},
   "outputs": [],
   "source": []
  }
 ],
 "metadata": {
  "kernelspec": {
   "display_name": "Python 3 (ipykernel)",
   "language": "python",
   "name": "python3"
  },
  "language_info": {
   "codemirror_mode": {
    "name": "ipython",
    "version": 3
   },
   "file_extension": ".py",
   "mimetype": "text/x-python",
   "name": "python",
   "nbconvert_exporter": "python",
   "pygments_lexer": "ipython3",
   "version": "3.9.12"
  }
 },
 "nbformat": 4,
 "nbformat_minor": 2
}
